{
 "cells": [
  {
   "cell_type": "code",
   "execution_count": 113,
   "id": "2e17943e-9046-4a40-8a7d-974753e9511a",
   "metadata": {},
   "outputs": [],
   "source": [
    "#Encuentra a Spark en la PC\n",
    "import findspark\n",
    "findspark.init()"
   ]
  },
  {
   "cell_type": "code",
   "execution_count": 114,
   "id": "3e9e6613-1ec6-46a3-a8e5-82784fd54acd",
   "metadata": {},
   "outputs": [],
   "source": [
    "#Importa la sesion\n",
    "from pyspark.sql import SparkSession"
   ]
  },
  {
   "cell_type": "code",
   "execution_count": 115,
   "id": "6c3f28c8-cbb1-4a16-a516-9ed5831cbeed",
   "metadata": {},
   "outputs": [
    {
     "name": "stdout",
     "output_type": "stream",
     "text": [
      "+----------------+--------------------+--------------------+--------------------+--------------------+---------+---------+---------+---------+---------+----------+----------+----------+----------+----------+----------+----------+----------+\n",
      "|         Disease|           Symptom_1|           Symptom_2|           Symptom_3|           Symptom_4|Symptom_5|Symptom_6|Symptom_7|Symptom_8|Symptom_9|Symptom_10|Symptom_11|Symptom_12|Symptom_13|Symptom_14|Symptom_15|Symptom_16|Symptom_17|\n",
      "+----------------+--------------------+--------------------+--------------------+--------------------+---------+---------+---------+---------+---------+----------+----------+----------+----------+----------+----------+----------+----------+\n",
      "|Fungal infection|             itching|           skin_rash| nodal_skin_erupt...| dischromic _patches|     NULL|     NULL|     NULL|     NULL|     NULL|      NULL|      NULL|      NULL|      NULL|      NULL|      NULL|      NULL|      NULL|\n",
      "|Fungal infection|           skin_rash| nodal_skin_erupt...| dischromic _patches|                NULL|     NULL|     NULL|     NULL|     NULL|     NULL|      NULL|      NULL|      NULL|      NULL|      NULL|      NULL|      NULL|      NULL|\n",
      "|Fungal infection|             itching| nodal_skin_erupt...| dischromic _patches|                NULL|     NULL|     NULL|     NULL|     NULL|     NULL|      NULL|      NULL|      NULL|      NULL|      NULL|      NULL|      NULL|      NULL|\n",
      "|Fungal infection|             itching|           skin_rash| dischromic _patches|                NULL|     NULL|     NULL|     NULL|     NULL|     NULL|      NULL|      NULL|      NULL|      NULL|      NULL|      NULL|      NULL|      NULL|\n",
      "|Fungal infection|             itching|           skin_rash| nodal_skin_erupt...|                NULL|     NULL|     NULL|     NULL|     NULL|     NULL|      NULL|      NULL|      NULL|      NULL|      NULL|      NULL|      NULL|      NULL|\n",
      "|Fungal infection|           skin_rash| nodal_skin_erupt...| dischromic _patches|                NULL|     NULL|     NULL|     NULL|     NULL|     NULL|      NULL|      NULL|      NULL|      NULL|      NULL|      NULL|      NULL|      NULL|\n",
      "|Fungal infection|             itching| nodal_skin_erupt...| dischromic _patches|                NULL|     NULL|     NULL|     NULL|     NULL|     NULL|      NULL|      NULL|      NULL|      NULL|      NULL|      NULL|      NULL|      NULL|\n",
      "|Fungal infection|             itching|           skin_rash| dischromic _patches|                NULL|     NULL|     NULL|     NULL|     NULL|     NULL|      NULL|      NULL|      NULL|      NULL|      NULL|      NULL|      NULL|      NULL|\n",
      "|Fungal infection|             itching|           skin_rash| nodal_skin_erupt...|                NULL|     NULL|     NULL|     NULL|     NULL|     NULL|      NULL|      NULL|      NULL|      NULL|      NULL|      NULL|      NULL|      NULL|\n",
      "|Fungal infection|             itching|           skin_rash| nodal_skin_erupt...| dischromic _patches|     NULL|     NULL|     NULL|     NULL|     NULL|      NULL|      NULL|      NULL|      NULL|      NULL|      NULL|      NULL|      NULL|\n",
      "|         Allergy| continuous_sneezing|           shivering|              chills|  watering_from_eyes|     NULL|     NULL|     NULL|     NULL|     NULL|      NULL|      NULL|      NULL|      NULL|      NULL|      NULL|      NULL|      NULL|\n",
      "|         Allergy|           shivering|              chills|  watering_from_eyes|                NULL|     NULL|     NULL|     NULL|     NULL|     NULL|      NULL|      NULL|      NULL|      NULL|      NULL|      NULL|      NULL|      NULL|\n",
      "|         Allergy| continuous_sneezing|              chills|  watering_from_eyes|                NULL|     NULL|     NULL|     NULL|     NULL|     NULL|      NULL|      NULL|      NULL|      NULL|      NULL|      NULL|      NULL|      NULL|\n",
      "|         Allergy| continuous_sneezing|           shivering|  watering_from_eyes|                NULL|     NULL|     NULL|     NULL|     NULL|     NULL|      NULL|      NULL|      NULL|      NULL|      NULL|      NULL|      NULL|      NULL|\n",
      "|         Allergy| continuous_sneezing|           shivering|              chills|                NULL|     NULL|     NULL|     NULL|     NULL|     NULL|      NULL|      NULL|      NULL|      NULL|      NULL|      NULL|      NULL|      NULL|\n",
      "|         Allergy|           shivering|              chills|  watering_from_eyes|                NULL|     NULL|     NULL|     NULL|     NULL|     NULL|      NULL|      NULL|      NULL|      NULL|      NULL|      NULL|      NULL|      NULL|\n",
      "|         Allergy| continuous_sneezing|              chills|  watering_from_eyes|                NULL|     NULL|     NULL|     NULL|     NULL|     NULL|      NULL|      NULL|      NULL|      NULL|      NULL|      NULL|      NULL|      NULL|\n",
      "|         Allergy| continuous_sneezing|           shivering|  watering_from_eyes|                NULL|     NULL|     NULL|     NULL|     NULL|     NULL|      NULL|      NULL|      NULL|      NULL|      NULL|      NULL|      NULL|      NULL|\n",
      "|         Allergy| continuous_sneezing|           shivering|              chills|                NULL|     NULL|     NULL|     NULL|     NULL|     NULL|      NULL|      NULL|      NULL|      NULL|      NULL|      NULL|      NULL|      NULL|\n",
      "|         Allergy| continuous_sneezing|           shivering|              chills|  watering_from_eyes|     NULL|     NULL|     NULL|     NULL|     NULL|      NULL|      NULL|      NULL|      NULL|      NULL|      NULL|      NULL|      NULL|\n",
      "+----------------+--------------------+--------------------+--------------------+--------------------+---------+---------+---------+---------+---------+----------+----------+----------+----------+----------+----------+----------+----------+\n",
      "only showing top 20 rows\n",
      "\n"
     ]
    }
   ],
   "source": [
    "spark = SparkSession.builder.appName(\"enfermedades\").getOrCreate()\n",
    "\n",
    "ruta = 'C:\\\\Users\\\\PC\\\\Documents\\\\scripts\\\\data\\\\datasets\\\\DiseaseAndSymptoms.csv'\n",
    "\n",
    "df = spark.read.csv(ruta,sep=\",\", header=True, inferSchema=True)\n",
    "\n",
    "df.show()"
   ]
  },
  {
   "cell_type": "code",
   "execution_count": 138,
   "id": "d3943880-8df7-4424-9989-3b09c72af733",
   "metadata": {},
   "outputs": [
    {
     "name": "stdout",
     "output_type": "stream",
     "text": [
      "+----------------+--------------------+--------------------+--------------------+--------------------+---------+\n",
      "|         Disease|           Symptom_1|           Symptom_2|           Symptom_3|           Symptom_4|Symptom_5|\n",
      "+----------------+--------------------+--------------------+--------------------+--------------------+---------+\n",
      "|Fungal infection|             itching|           skin_rash| nodal_skin_erupt...| dischromic _patches|     NULL|\n",
      "|Fungal infection|           skin_rash| nodal_skin_erupt...| dischromic _patches|                NULL|     NULL|\n",
      "|Fungal infection|             itching| nodal_skin_erupt...| dischromic _patches|                NULL|     NULL|\n",
      "|Fungal infection|             itching|           skin_rash| dischromic _patches|                NULL|     NULL|\n",
      "|Fungal infection|             itching|           skin_rash| nodal_skin_erupt...|                NULL|     NULL|\n",
      "|Fungal infection|           skin_rash| nodal_skin_erupt...| dischromic _patches|                NULL|     NULL|\n",
      "|Fungal infection|             itching| nodal_skin_erupt...| dischromic _patches|                NULL|     NULL|\n",
      "|Fungal infection|             itching|           skin_rash| dischromic _patches|                NULL|     NULL|\n",
      "|Fungal infection|             itching|           skin_rash| nodal_skin_erupt...|                NULL|     NULL|\n",
      "|Fungal infection|             itching|           skin_rash| nodal_skin_erupt...| dischromic _patches|     NULL|\n",
      "|         Allergy| continuous_sneezing|           shivering|              chills|  watering_from_eyes|     NULL|\n",
      "|         Allergy|           shivering|              chills|  watering_from_eyes|                NULL|     NULL|\n",
      "|         Allergy| continuous_sneezing|              chills|  watering_from_eyes|                NULL|     NULL|\n",
      "|         Allergy| continuous_sneezing|           shivering|  watering_from_eyes|                NULL|     NULL|\n",
      "|         Allergy| continuous_sneezing|           shivering|              chills|                NULL|     NULL|\n",
      "|         Allergy|           shivering|              chills|  watering_from_eyes|                NULL|     NULL|\n",
      "|         Allergy| continuous_sneezing|              chills|  watering_from_eyes|                NULL|     NULL|\n",
      "|         Allergy| continuous_sneezing|           shivering|  watering_from_eyes|                NULL|     NULL|\n",
      "|         Allergy| continuous_sneezing|           shivering|              chills|                NULL|     NULL|\n",
      "|         Allergy| continuous_sneezing|           shivering|              chills|  watering_from_eyes|     NULL|\n",
      "+----------------+--------------------+--------------------+--------------------+--------------------+---------+\n",
      "only showing top 20 rows\n",
      "\n"
     ]
    }
   ],
   "source": [
    "df.select('Disease','Symptom_1','Symptom_2','Symptom_3','Symptom_4','Symptom_5').show()"
   ]
  },
  {
   "cell_type": "code",
   "execution_count": 116,
   "id": "729e89dd-67c5-47f6-b0f0-9e0622da77ac",
   "metadata": {},
   "outputs": [],
   "source": [
    "def encontrar_nulos(df_base,list_campos):\n",
    "    list_nulos = []\n",
    "    for campo in list_campos:\n",
    "        nro_nulos = df_base.filter(col(campo).isNull()).count()\n",
    "        if nro_nulos > 0:\n",
    "            list_nulos.append(campo)\n",
    "    return list_nulos"
   ]
  },
  {
   "cell_type": "code",
   "execution_count": 7,
   "id": "c1c83477-7c8d-4745-97ad-c039af442f04",
   "metadata": {},
   "outputs": [
    {
     "name": "stdout",
     "output_type": "stream",
     "text": [
      "['Symptom_4', 'Symptom_5', 'Symptom_6', 'Symptom_7', 'Symptom_8', 'Symptom_9', 'Symptom_10', 'Symptom_11', 'Symptom_12', 'Symptom_13', 'Symptom_14', 'Symptom_15', 'Symptom_16', 'Symptom_17']\n"
     ]
    }
   ],
   "source": [
    "from pyspark.sql.functions import *\n",
    "\n",
    "lista_nulos_df = encontrar_nulos(df,df.columns)\n",
    "print(lista_nulos_df)"
   ]
  },
  {
   "cell_type": "code",
   "execution_count": 57,
   "id": "63f7c6bf-1930-4e72-9719-d31a512989a8",
   "metadata": {},
   "outputs": [
    {
     "name": "stdout",
     "output_type": "stream",
     "text": [
      "root\n",
      " |-- Disease: string (nullable = true)\n",
      " |-- Symptom_1: string (nullable = true)\n",
      " |-- Symptom_2: string (nullable = true)\n",
      " |-- Symptom_3: string (nullable = true)\n",
      " |-- Symptom_4: string (nullable = true)\n",
      " |-- Symptom_5: string (nullable = true)\n",
      " |-- Symptom_6: string (nullable = true)\n",
      " |-- Symptom_7: string (nullable = true)\n",
      " |-- Symptom_8: string (nullable = true)\n",
      " |-- Symptom_9: string (nullable = true)\n",
      " |-- Symptom_10: string (nullable = true)\n",
      " |-- Symptom_11: string (nullable = true)\n",
      " |-- Symptom_12: string (nullable = true)\n",
      " |-- Symptom_13: string (nullable = true)\n",
      " |-- Symptom_14: string (nullable = true)\n",
      " |-- Symptom_15: string (nullable = true)\n",
      " |-- Symptom_16: string (nullable = true)\n",
      " |-- Symptom_17: string (nullable = true)\n",
      "\n"
     ]
    }
   ],
   "source": [
    "df.printSchema()"
   ]
  },
  {
   "cell_type": "code",
   "execution_count": 117,
   "id": "1efda1e6-e0eb-4617-bc61-eb9389613065",
   "metadata": {},
   "outputs": [
    {
     "name": "stdout",
     "output_type": "stream",
     "text": [
      "+----------------+--------------------+--------------------+--------------------+--------------------+---------+---------+---------+---------+---------+----------+----------+----------+----------+----------+----------+----------+----------+\n",
      "|         Disease|           Symptom_1|           Symptom_2|           Symptom_3|           Symptom_4|Symptom_5|Symptom_6|Symptom_7|Symptom_8|Symptom_9|Symptom_10|Symptom_11|Symptom_12|Symptom_13|Symptom_14|Symptom_15|Symptom_16|Symptom_17|\n",
      "+----------------+--------------------+--------------------+--------------------+--------------------+---------+---------+---------+---------+---------+----------+----------+----------+----------+----------+----------+----------+----------+\n",
      "|Fungal infection|             itching|           skin_rash| nodal_skin_erupt...| dischromic _patches|     NULL|     NULL|     NULL|     NULL|     NULL|      NULL|      NULL|      NULL|      NULL|      NULL|      NULL|      NULL|      NULL|\n",
      "|Fungal infection|           skin_rash| nodal_skin_erupt...| dischromic _patches|                NULL|     NULL|     NULL|     NULL|     NULL|     NULL|      NULL|      NULL|      NULL|      NULL|      NULL|      NULL|      NULL|      NULL|\n",
      "|Fungal infection|             itching| nodal_skin_erupt...| dischromic _patches|                NULL|     NULL|     NULL|     NULL|     NULL|     NULL|      NULL|      NULL|      NULL|      NULL|      NULL|      NULL|      NULL|      NULL|\n",
      "|Fungal infection|             itching|           skin_rash| dischromic _patches|                NULL|     NULL|     NULL|     NULL|     NULL|     NULL|      NULL|      NULL|      NULL|      NULL|      NULL|      NULL|      NULL|      NULL|\n",
      "|Fungal infection|             itching|           skin_rash| nodal_skin_erupt...|                NULL|     NULL|     NULL|     NULL|     NULL|     NULL|      NULL|      NULL|      NULL|      NULL|      NULL|      NULL|      NULL|      NULL|\n",
      "|Fungal infection|           skin_rash| nodal_skin_erupt...| dischromic _patches|                NULL|     NULL|     NULL|     NULL|     NULL|     NULL|      NULL|      NULL|      NULL|      NULL|      NULL|      NULL|      NULL|      NULL|\n",
      "|Fungal infection|             itching| nodal_skin_erupt...| dischromic _patches|                NULL|     NULL|     NULL|     NULL|     NULL|     NULL|      NULL|      NULL|      NULL|      NULL|      NULL|      NULL|      NULL|      NULL|\n",
      "|Fungal infection|             itching|           skin_rash| dischromic _patches|                NULL|     NULL|     NULL|     NULL|     NULL|     NULL|      NULL|      NULL|      NULL|      NULL|      NULL|      NULL|      NULL|      NULL|\n",
      "|Fungal infection|             itching|           skin_rash| nodal_skin_erupt...|                NULL|     NULL|     NULL|     NULL|     NULL|     NULL|      NULL|      NULL|      NULL|      NULL|      NULL|      NULL|      NULL|      NULL|\n",
      "|Fungal infection|             itching|           skin_rash| nodal_skin_erupt...| dischromic _patches|     NULL|     NULL|     NULL|     NULL|     NULL|      NULL|      NULL|      NULL|      NULL|      NULL|      NULL|      NULL|      NULL|\n",
      "|         Allergy| continuous_sneezing|           shivering|              chills|  watering_from_eyes|     NULL|     NULL|     NULL|     NULL|     NULL|      NULL|      NULL|      NULL|      NULL|      NULL|      NULL|      NULL|      NULL|\n",
      "|         Allergy|           shivering|              chills|  watering_from_eyes|                NULL|     NULL|     NULL|     NULL|     NULL|     NULL|      NULL|      NULL|      NULL|      NULL|      NULL|      NULL|      NULL|      NULL|\n",
      "|         Allergy| continuous_sneezing|              chills|  watering_from_eyes|                NULL|     NULL|     NULL|     NULL|     NULL|     NULL|      NULL|      NULL|      NULL|      NULL|      NULL|      NULL|      NULL|      NULL|\n",
      "|         Allergy| continuous_sneezing|           shivering|  watering_from_eyes|                NULL|     NULL|     NULL|     NULL|     NULL|     NULL|      NULL|      NULL|      NULL|      NULL|      NULL|      NULL|      NULL|      NULL|\n",
      "|         Allergy| continuous_sneezing|           shivering|              chills|                NULL|     NULL|     NULL|     NULL|     NULL|     NULL|      NULL|      NULL|      NULL|      NULL|      NULL|      NULL|      NULL|      NULL|\n",
      "|         Allergy|           shivering|              chills|  watering_from_eyes|                NULL|     NULL|     NULL|     NULL|     NULL|     NULL|      NULL|      NULL|      NULL|      NULL|      NULL|      NULL|      NULL|      NULL|\n",
      "|         Allergy| continuous_sneezing|              chills|  watering_from_eyes|                NULL|     NULL|     NULL|     NULL|     NULL|     NULL|      NULL|      NULL|      NULL|      NULL|      NULL|      NULL|      NULL|      NULL|\n",
      "|         Allergy| continuous_sneezing|           shivering|  watering_from_eyes|                NULL|     NULL|     NULL|     NULL|     NULL|     NULL|      NULL|      NULL|      NULL|      NULL|      NULL|      NULL|      NULL|      NULL|\n",
      "|         Allergy| continuous_sneezing|           shivering|              chills|                NULL|     NULL|     NULL|     NULL|     NULL|     NULL|      NULL|      NULL|      NULL|      NULL|      NULL|      NULL|      NULL|      NULL|\n",
      "|         Allergy| continuous_sneezing|           shivering|              chills|  watering_from_eyes|     NULL|     NULL|     NULL|     NULL|     NULL|      NULL|      NULL|      NULL|      NULL|      NULL|      NULL|      NULL|      NULL|\n",
      "+----------------+--------------------+--------------------+--------------------+--------------------+---------+---------+---------+---------+---------+----------+----------+----------+----------+----------+----------+----------+----------+\n",
      "only showing top 20 rows\n",
      "\n"
     ]
    }
   ],
   "source": [
    "# df_1 = df.na.fill(value='NO_APLICA',subset=[campo])\n",
    "# df_1.filter(col(campo).isNull()).select(campo).show()\n",
    "df.show()"
   ]
  },
  {
   "cell_type": "code",
   "execution_count": 12,
   "id": "debc852e-8bb0-4db5-9063-860b44e693c4",
   "metadata": {},
   "outputs": [
    {
     "name": "stdout",
     "output_type": "stream",
     "text": [
      "+----------------+--------------------+--------------------+--------------------+--------------------+---------+---------+---------+---------+---------+----------+----------+----------+----------+----------+----------+----------+----------+\n",
      "|         Disease|           Symptom_1|           Symptom_2|           Symptom_3|           Symptom_4|Symptom_5|Symptom_6|Symptom_7|Symptom_8|Symptom_9|Symptom_10|Symptom_11|Symptom_12|Symptom_13|Symptom_14|Symptom_15|Symptom_16|Symptom_17|\n",
      "+----------------+--------------------+--------------------+--------------------+--------------------+---------+---------+---------+---------+---------+----------+----------+----------+----------+----------+----------+----------+----------+\n",
      "|Fungal infection|             itching|           skin_rash| nodal_skin_erupt...| dischromic _patches|     NULL|     NULL|     NULL|     NULL|     NULL|      NULL|      NULL|      NULL|      NULL|      NULL|      NULL|      NULL|      NULL|\n",
      "|Fungal infection|           skin_rash| nodal_skin_erupt...| dischromic _patches|           NO_APLICA|     NULL|     NULL|     NULL|     NULL|     NULL|      NULL|      NULL|      NULL|      NULL|      NULL|      NULL|      NULL|      NULL|\n",
      "|Fungal infection|             itching| nodal_skin_erupt...| dischromic _patches|           NO_APLICA|     NULL|     NULL|     NULL|     NULL|     NULL|      NULL|      NULL|      NULL|      NULL|      NULL|      NULL|      NULL|      NULL|\n",
      "|Fungal infection|             itching|           skin_rash| dischromic _patches|           NO_APLICA|     NULL|     NULL|     NULL|     NULL|     NULL|      NULL|      NULL|      NULL|      NULL|      NULL|      NULL|      NULL|      NULL|\n",
      "|Fungal infection|             itching|           skin_rash| nodal_skin_erupt...|           NO_APLICA|     NULL|     NULL|     NULL|     NULL|     NULL|      NULL|      NULL|      NULL|      NULL|      NULL|      NULL|      NULL|      NULL|\n",
      "|Fungal infection|           skin_rash| nodal_skin_erupt...| dischromic _patches|           NO_APLICA|     NULL|     NULL|     NULL|     NULL|     NULL|      NULL|      NULL|      NULL|      NULL|      NULL|      NULL|      NULL|      NULL|\n",
      "|Fungal infection|             itching| nodal_skin_erupt...| dischromic _patches|           NO_APLICA|     NULL|     NULL|     NULL|     NULL|     NULL|      NULL|      NULL|      NULL|      NULL|      NULL|      NULL|      NULL|      NULL|\n",
      "|Fungal infection|             itching|           skin_rash| dischromic _patches|           NO_APLICA|     NULL|     NULL|     NULL|     NULL|     NULL|      NULL|      NULL|      NULL|      NULL|      NULL|      NULL|      NULL|      NULL|\n",
      "|Fungal infection|             itching|           skin_rash| nodal_skin_erupt...|           NO_APLICA|     NULL|     NULL|     NULL|     NULL|     NULL|      NULL|      NULL|      NULL|      NULL|      NULL|      NULL|      NULL|      NULL|\n",
      "|Fungal infection|             itching|           skin_rash| nodal_skin_erupt...| dischromic _patches|     NULL|     NULL|     NULL|     NULL|     NULL|      NULL|      NULL|      NULL|      NULL|      NULL|      NULL|      NULL|      NULL|\n",
      "|         Allergy| continuous_sneezing|           shivering|              chills|  watering_from_eyes|     NULL|     NULL|     NULL|     NULL|     NULL|      NULL|      NULL|      NULL|      NULL|      NULL|      NULL|      NULL|      NULL|\n",
      "|         Allergy|           shivering|              chills|  watering_from_eyes|           NO_APLICA|     NULL|     NULL|     NULL|     NULL|     NULL|      NULL|      NULL|      NULL|      NULL|      NULL|      NULL|      NULL|      NULL|\n",
      "|         Allergy| continuous_sneezing|              chills|  watering_from_eyes|           NO_APLICA|     NULL|     NULL|     NULL|     NULL|     NULL|      NULL|      NULL|      NULL|      NULL|      NULL|      NULL|      NULL|      NULL|\n",
      "|         Allergy| continuous_sneezing|           shivering|  watering_from_eyes|           NO_APLICA|     NULL|     NULL|     NULL|     NULL|     NULL|      NULL|      NULL|      NULL|      NULL|      NULL|      NULL|      NULL|      NULL|\n",
      "|         Allergy| continuous_sneezing|           shivering|              chills|           NO_APLICA|     NULL|     NULL|     NULL|     NULL|     NULL|      NULL|      NULL|      NULL|      NULL|      NULL|      NULL|      NULL|      NULL|\n",
      "|         Allergy|           shivering|              chills|  watering_from_eyes|           NO_APLICA|     NULL|     NULL|     NULL|     NULL|     NULL|      NULL|      NULL|      NULL|      NULL|      NULL|      NULL|      NULL|      NULL|\n",
      "|         Allergy| continuous_sneezing|              chills|  watering_from_eyes|           NO_APLICA|     NULL|     NULL|     NULL|     NULL|     NULL|      NULL|      NULL|      NULL|      NULL|      NULL|      NULL|      NULL|      NULL|\n",
      "|         Allergy| continuous_sneezing|           shivering|  watering_from_eyes|           NO_APLICA|     NULL|     NULL|     NULL|     NULL|     NULL|      NULL|      NULL|      NULL|      NULL|      NULL|      NULL|      NULL|      NULL|\n",
      "|         Allergy| continuous_sneezing|           shivering|              chills|           NO_APLICA|     NULL|     NULL|     NULL|     NULL|     NULL|      NULL|      NULL|      NULL|      NULL|      NULL|      NULL|      NULL|      NULL|\n",
      "|         Allergy| continuous_sneezing|           shivering|              chills|  watering_from_eyes|     NULL|     NULL|     NULL|     NULL|     NULL|      NULL|      NULL|      NULL|      NULL|      NULL|      NULL|      NULL|      NULL|\n",
      "+----------------+--------------------+--------------------+--------------------+--------------------+---------+---------+---------+---------+---------+----------+----------+----------+----------+----------+----------+----------+----------+\n",
      "only showing top 20 rows\n",
      "\n"
     ]
    }
   ],
   "source": [
    "df_1 = df.withColumn(campo,when(col(campo).isNull(),lit(\"NO_APLICA\")).otherwise(col(campo)))\n",
    "df_1.show()"
   ]
  },
  {
   "cell_type": "code",
   "execution_count": 31,
   "id": "32984df7-7b0b-45c3-8ad6-b6754fcced99",
   "metadata": {},
   "outputs": [
    {
     "name": "stdout",
     "output_type": "stream",
     "text": [
      "[('Disease', 'string'), ('Symptom_1', 'string'), ('Symptom_2', 'string'), ('Symptom_3', 'string'), ('Symptom_4', 'string'), ('Symptom_5', 'string'), ('Symptom_6', 'string'), ('Symptom_7', 'string'), ('Symptom_8', 'string'), ('Symptom_9', 'string'), ('Symptom_10', 'string'), ('Symptom_11', 'string'), ('Symptom_12', 'string'), ('Symptom_13', 'string'), ('Symptom_14', 'string'), ('Symptom_15', 'string'), ('Symptom_16', 'string'), ('Symptom_17', 'string')]\n",
      "(0, ('Disease', 'string'))\n",
      "(1, ('Symptom_1', 'string'))\n",
      "(2, ('Symptom_2', 'string'))\n",
      "(3, ('Symptom_3', 'string'))\n",
      "(4, ('Symptom_4', 'string'))\n",
      "(5, ('Symptom_5', 'string'))\n",
      "(6, ('Symptom_6', 'string'))\n",
      "(7, ('Symptom_7', 'string'))\n",
      "(8, ('Symptom_8', 'string'))\n",
      "(9, ('Symptom_9', 'string'))\n",
      "(10, ('Symptom_10', 'string'))\n",
      "(11, ('Symptom_11', 'string'))\n",
      "(12, ('Symptom_12', 'string'))\n",
      "(13, ('Symptom_13', 'string'))\n",
      "(14, ('Symptom_14', 'string'))\n",
      "(15, ('Symptom_15', 'string'))\n",
      "(16, ('Symptom_16', 'string'))\n",
      "(17, ('Symptom_17', 'string'))\n"
     ]
    }
   ],
   "source": [
    "tipos_columna = df.dtypes\n",
    "print(tipos_columna)\n",
    "\n",
    "for i in enumerate(df.dtypes):\n",
    "    print(i)\n"
   ]
  },
  {
   "cell_type": "code",
   "execution_count": 118,
   "id": "8c656e1b-34a6-482c-b7ad-63efa9ada2f1",
   "metadata": {},
   "outputs": [],
   "source": [
    "def logica_nulos(df,list_campos):\n",
    "    for campo in list_campos:\n",
    "        for i, lista_interna in enumerate(df.dtypes):\n",
    "            if campo in lista_interna:\n",
    "                indice = lista_interna.index(campo)\n",
    "                tipo = lista_interna[1]\n",
    "                print(tipo)\n",
    "                break\n",
    "        if tipo == 'string':\n",
    "            # df_1 = df.na.fill(value='NO_APLICA',subset=[campo])\n",
    "            df = df.withColumn(campo,when(col(campo).isNull(),lit(\"NO_APLICA\")).otherwise(col(campo)))\n",
    "        elif tipo == 'int' or tipo=='double':\n",
    "            # df_1 = df.na.fill(value=9999999,subset=[campo])\n",
    "            df = df.withColumn(campo,when(col(campo).isNull(),lit(9999999)).otherwise(col(campo)))\n",
    "        elif tipo == 'date':\n",
    "            # df_1 = df.na.fill(value='1999-12-31',subset=[campo])\n",
    "            df = df.withColumn(campo,when(col(campo).isNull(),lit('1999-12-31').cast('date')).otherwise(col(campo)))\n",
    "    return df"
   ]
  },
  {
   "cell_type": "code",
   "execution_count": 98,
   "id": "e343e562-e9d4-4376-bd1a-58230ab8c74f",
   "metadata": {},
   "outputs": [],
   "source": [
    "def logica_nulos(df, list_campos):\n",
    "    for campo in list_campos:\n",
    "        tipo = None\n",
    "        for _, (nombre, tipo_columna) in enumerate(df.dtypes):\n",
    "            if campo == nombre:\n",
    "                tipo = tipo_columna\n",
    "                break\n",
    "\n",
    "        if tipo == 'string':\n",
    "            df = df.fillna(\"NO_APLICA\", subset=[campo])\n",
    "        elif tipo == 'integer':\n",
    "            df = df.fillna(99999999, subset=[campo])\n",
    "        elif tipo == 'date':\n",
    "            df = df.fillna('1999-12-31', subset=[campo])\n",
    "\n",
    "    return df"
   ]
  },
  {
   "cell_type": "code",
   "execution_count": 119,
   "id": "5d0db4ac-c962-4882-8239-903be9efc40f",
   "metadata": {},
   "outputs": [
    {
     "name": "stdout",
     "output_type": "stream",
     "text": [
      "+----------------+--------------------+--------------------+--------------------+--------------------+---------+---------+---------+---------+---------+----------+----------+----------+----------+----------+----------+----------+----------+--------+----------+\n",
      "|         Disease|           Symptom_1|           Symptom_2|           Symptom_3|           Symptom_4|Symptom_5|Symptom_6|Symptom_7|Symptom_8|Symptom_9|Symptom_10|Symptom_11|Symptom_12|Symptom_13|Symptom_14|Symptom_15|Symptom_16|Symptom_17|number_2| date_proc|\n",
      "+----------------+--------------------+--------------------+--------------------+--------------------+---------+---------+---------+---------+---------+----------+----------+----------+----------+----------+----------+----------+----------+--------+----------+\n",
      "|Fungal infection|             itching|           skin_rash| nodal_skin_erupt...| dischromic _patches|     NULL|     NULL|     NULL|     NULL|     NULL|      NULL|      NULL|      NULL|      NULL|      NULL|      NULL|      NULL|      NULL|      10|2024-02-25|\n",
      "|Fungal infection|           skin_rash| nodal_skin_erupt...| dischromic _patches|                NULL|     NULL|     NULL|     NULL|     NULL|     NULL|      NULL|      NULL|      NULL|      NULL|      NULL|      NULL|      NULL|      NULL|      10|2024-02-25|\n",
      "|Fungal infection|             itching| nodal_skin_erupt...| dischromic _patches|                NULL|     NULL|     NULL|     NULL|     NULL|     NULL|      NULL|      NULL|      NULL|      NULL|      NULL|      NULL|      NULL|      NULL|      10|2024-02-25|\n",
      "|Fungal infection|             itching|           skin_rash| dischromic _patches|                NULL|     NULL|     NULL|     NULL|     NULL|     NULL|      NULL|      NULL|      NULL|      NULL|      NULL|      NULL|      NULL|      NULL|      10|2024-02-25|\n",
      "|Fungal infection|             itching|           skin_rash| nodal_skin_erupt...|                NULL|     NULL|     NULL|     NULL|     NULL|     NULL|      NULL|      NULL|      NULL|      NULL|      NULL|      NULL|      NULL|      NULL|      10|2024-02-25|\n",
      "|Fungal infection|           skin_rash| nodal_skin_erupt...| dischromic _patches|                NULL|     NULL|     NULL|     NULL|     NULL|     NULL|      NULL|      NULL|      NULL|      NULL|      NULL|      NULL|      NULL|      NULL|      10|2024-02-25|\n",
      "|Fungal infection|             itching| nodal_skin_erupt...| dischromic _patches|                NULL|     NULL|     NULL|     NULL|     NULL|     NULL|      NULL|      NULL|      NULL|      NULL|      NULL|      NULL|      NULL|      NULL|      10|2024-02-25|\n",
      "|Fungal infection|             itching|           skin_rash| dischromic _patches|                NULL|     NULL|     NULL|     NULL|     NULL|     NULL|      NULL|      NULL|      NULL|      NULL|      NULL|      NULL|      NULL|      NULL|      10|2024-02-25|\n",
      "|Fungal infection|             itching|           skin_rash| nodal_skin_erupt...|                NULL|     NULL|     NULL|     NULL|     NULL|     NULL|      NULL|      NULL|      NULL|      NULL|      NULL|      NULL|      NULL|      NULL|      10|2024-02-25|\n",
      "|Fungal infection|             itching|           skin_rash| nodal_skin_erupt...| dischromic _patches|     NULL|     NULL|     NULL|     NULL|     NULL|      NULL|      NULL|      NULL|      NULL|      NULL|      NULL|      NULL|      NULL|      10|2024-02-25|\n",
      "|         Allergy| continuous_sneezing|           shivering|              chills|  watering_from_eyes|     NULL|     NULL|     NULL|     NULL|     NULL|      NULL|      NULL|      NULL|      NULL|      NULL|      NULL|      NULL|      NULL|    NULL|      NULL|\n",
      "|         Allergy|           shivering|              chills|  watering_from_eyes|                NULL|     NULL|     NULL|     NULL|     NULL|     NULL|      NULL|      NULL|      NULL|      NULL|      NULL|      NULL|      NULL|      NULL|    NULL|      NULL|\n",
      "|         Allergy| continuous_sneezing|              chills|  watering_from_eyes|                NULL|     NULL|     NULL|     NULL|     NULL|     NULL|      NULL|      NULL|      NULL|      NULL|      NULL|      NULL|      NULL|      NULL|    NULL|      NULL|\n",
      "|         Allergy| continuous_sneezing|           shivering|  watering_from_eyes|                NULL|     NULL|     NULL|     NULL|     NULL|     NULL|      NULL|      NULL|      NULL|      NULL|      NULL|      NULL|      NULL|      NULL|    NULL|      NULL|\n",
      "|         Allergy| continuous_sneezing|           shivering|              chills|                NULL|     NULL|     NULL|     NULL|     NULL|     NULL|      NULL|      NULL|      NULL|      NULL|      NULL|      NULL|      NULL|      NULL|    NULL|      NULL|\n",
      "|         Allergy|           shivering|              chills|  watering_from_eyes|                NULL|     NULL|     NULL|     NULL|     NULL|     NULL|      NULL|      NULL|      NULL|      NULL|      NULL|      NULL|      NULL|      NULL|    NULL|      NULL|\n",
      "|         Allergy| continuous_sneezing|              chills|  watering_from_eyes|                NULL|     NULL|     NULL|     NULL|     NULL|     NULL|      NULL|      NULL|      NULL|      NULL|      NULL|      NULL|      NULL|      NULL|    NULL|      NULL|\n",
      "|         Allergy| continuous_sneezing|           shivering|  watering_from_eyes|                NULL|     NULL|     NULL|     NULL|     NULL|     NULL|      NULL|      NULL|      NULL|      NULL|      NULL|      NULL|      NULL|      NULL|    NULL|      NULL|\n",
      "|         Allergy| continuous_sneezing|           shivering|              chills|                NULL|     NULL|     NULL|     NULL|     NULL|     NULL|      NULL|      NULL|      NULL|      NULL|      NULL|      NULL|      NULL|      NULL|    NULL|      NULL|\n",
      "|         Allergy| continuous_sneezing|           shivering|              chills|  watering_from_eyes|     NULL|     NULL|     NULL|     NULL|     NULL|      NULL|      NULL|      NULL|      NULL|      NULL|      NULL|      NULL|      NULL|    NULL|      NULL|\n",
      "+----------------+--------------------+--------------------+--------------------+--------------------+---------+---------+---------+---------+---------+----------+----------+----------+----------+----------+----------+----------+----------+--------+----------+\n",
      "only showing top 20 rows\n",
      "\n"
     ]
    }
   ],
   "source": [
    "df_1=df.withColumn(\"number_2\",when(col('Disease')=='Fungal infection',10).otherwise(lit(None)))\n",
    "df_1=df_1.withColumn(\"date_proc\",when(col('Disease')=='Fungal infection',lit('2024-02-25').cast('date')).otherwise(lit(None)))\n",
    "df_1.show()"
   ]
  },
  {
   "cell_type": "code",
   "execution_count": 142,
   "id": "f67f1fe8-6306-439d-a64b-9170a9f7efb0",
   "metadata": {},
   "outputs": [
    {
     "name": "stdout",
     "output_type": "stream",
     "text": [
      "[]\n",
      "root\n",
      " |-- Disease: string (nullable = true)\n",
      " |-- Symptom_1: string (nullable = true)\n",
      " |-- Symptom_2: string (nullable = true)\n",
      " |-- Symptom_3: string (nullable = true)\n",
      " |-- Symptom_4: string (nullable = true)\n",
      " |-- Symptom_5: string (nullable = true)\n",
      " |-- Symptom_6: string (nullable = true)\n",
      " |-- Symptom_7: string (nullable = true)\n",
      " |-- Symptom_8: string (nullable = true)\n",
      " |-- Symptom_9: string (nullable = true)\n",
      " |-- Symptom_10: string (nullable = true)\n",
      " |-- Symptom_11: string (nullable = true)\n",
      " |-- Symptom_12: string (nullable = true)\n",
      " |-- Symptom_13: string (nullable = true)\n",
      " |-- Symptom_14: string (nullable = true)\n",
      " |-- Symptom_15: string (nullable = true)\n",
      " |-- Symptom_16: string (nullable = true)\n",
      " |-- Symptom_17: string (nullable = true)\n",
      " |-- number_2: integer (nullable = true)\n",
      " |-- date_proc: date (nullable = true)\n",
      "\n"
     ]
    }
   ],
   "source": [
    "lista_nulos_df = encontrar_nulos(df_1,df_1.columns)\n",
    "print(lista_nulos_df)\n",
    "df_1.printSchema()"
   ]
  },
  {
   "cell_type": "code",
   "execution_count": 143,
   "id": "6ea56a88-9ed6-48cf-9187-664c2655e05c",
   "metadata": {},
   "outputs": [
    {
     "name": "stdout",
     "output_type": "stream",
     "text": [
      "+--------+----------+\n",
      "|number_2| date_proc|\n",
      "+--------+----------+\n",
      "|      10|2024-02-25|\n",
      "|      10|2024-02-25|\n",
      "|      10|2024-02-25|\n",
      "|      10|2024-02-25|\n",
      "|      10|2024-02-25|\n",
      "|      10|2024-02-25|\n",
      "|      10|2024-02-25|\n",
      "|      10|2024-02-25|\n",
      "|      10|2024-02-25|\n",
      "|      10|2024-02-25|\n",
      "| 9999999|1999-12-31|\n",
      "| 9999999|1999-12-31|\n",
      "| 9999999|1999-12-31|\n",
      "| 9999999|1999-12-31|\n",
      "| 9999999|1999-12-31|\n",
      "| 9999999|1999-12-31|\n",
      "| 9999999|1999-12-31|\n",
      "| 9999999|1999-12-31|\n",
      "| 9999999|1999-12-31|\n",
      "| 9999999|1999-12-31|\n",
      "+--------+----------+\n",
      "only showing top 20 rows\n",
      "\n",
      "+----------------+--------------------+--------------------+--------------------+--------------------+---------+---------+---------+---------+---------+----------+----------+----------+----------+----------+----------+----------+----------+--------+----------+\n",
      "|         Disease|           Symptom_1|           Symptom_2|           Symptom_3|           Symptom_4|Symptom_5|Symptom_6|Symptom_7|Symptom_8|Symptom_9|Symptom_10|Symptom_11|Symptom_12|Symptom_13|Symptom_14|Symptom_15|Symptom_16|Symptom_17|number_2| date_proc|\n",
      "+----------------+--------------------+--------------------+--------------------+--------------------+---------+---------+---------+---------+---------+----------+----------+----------+----------+----------+----------+----------+----------+--------+----------+\n",
      "|Fungal infection|             itching|           skin_rash| nodal_skin_erupt...| dischromic _patches|NO_APLICA|NO_APLICA|NO_APLICA|NO_APLICA|NO_APLICA| NO_APLICA| NO_APLICA| NO_APLICA| NO_APLICA| NO_APLICA| NO_APLICA| NO_APLICA| NO_APLICA|      10|2024-02-25|\n",
      "|Fungal infection|           skin_rash| nodal_skin_erupt...| dischromic _patches|           NO_APLICA|NO_APLICA|NO_APLICA|NO_APLICA|NO_APLICA|NO_APLICA| NO_APLICA| NO_APLICA| NO_APLICA| NO_APLICA| NO_APLICA| NO_APLICA| NO_APLICA| NO_APLICA|      10|2024-02-25|\n",
      "|Fungal infection|             itching| nodal_skin_erupt...| dischromic _patches|           NO_APLICA|NO_APLICA|NO_APLICA|NO_APLICA|NO_APLICA|NO_APLICA| NO_APLICA| NO_APLICA| NO_APLICA| NO_APLICA| NO_APLICA| NO_APLICA| NO_APLICA| NO_APLICA|      10|2024-02-25|\n",
      "|Fungal infection|             itching|           skin_rash| dischromic _patches|           NO_APLICA|NO_APLICA|NO_APLICA|NO_APLICA|NO_APLICA|NO_APLICA| NO_APLICA| NO_APLICA| NO_APLICA| NO_APLICA| NO_APLICA| NO_APLICA| NO_APLICA| NO_APLICA|      10|2024-02-25|\n",
      "|Fungal infection|             itching|           skin_rash| nodal_skin_erupt...|           NO_APLICA|NO_APLICA|NO_APLICA|NO_APLICA|NO_APLICA|NO_APLICA| NO_APLICA| NO_APLICA| NO_APLICA| NO_APLICA| NO_APLICA| NO_APLICA| NO_APLICA| NO_APLICA|      10|2024-02-25|\n",
      "|Fungal infection|           skin_rash| nodal_skin_erupt...| dischromic _patches|           NO_APLICA|NO_APLICA|NO_APLICA|NO_APLICA|NO_APLICA|NO_APLICA| NO_APLICA| NO_APLICA| NO_APLICA| NO_APLICA| NO_APLICA| NO_APLICA| NO_APLICA| NO_APLICA|      10|2024-02-25|\n",
      "|Fungal infection|             itching| nodal_skin_erupt...| dischromic _patches|           NO_APLICA|NO_APLICA|NO_APLICA|NO_APLICA|NO_APLICA|NO_APLICA| NO_APLICA| NO_APLICA| NO_APLICA| NO_APLICA| NO_APLICA| NO_APLICA| NO_APLICA| NO_APLICA|      10|2024-02-25|\n",
      "|Fungal infection|             itching|           skin_rash| dischromic _patches|           NO_APLICA|NO_APLICA|NO_APLICA|NO_APLICA|NO_APLICA|NO_APLICA| NO_APLICA| NO_APLICA| NO_APLICA| NO_APLICA| NO_APLICA| NO_APLICA| NO_APLICA| NO_APLICA|      10|2024-02-25|\n",
      "|Fungal infection|             itching|           skin_rash| nodal_skin_erupt...|           NO_APLICA|NO_APLICA|NO_APLICA|NO_APLICA|NO_APLICA|NO_APLICA| NO_APLICA| NO_APLICA| NO_APLICA| NO_APLICA| NO_APLICA| NO_APLICA| NO_APLICA| NO_APLICA|      10|2024-02-25|\n",
      "|Fungal infection|             itching|           skin_rash| nodal_skin_erupt...| dischromic _patches|NO_APLICA|NO_APLICA|NO_APLICA|NO_APLICA|NO_APLICA| NO_APLICA| NO_APLICA| NO_APLICA| NO_APLICA| NO_APLICA| NO_APLICA| NO_APLICA| NO_APLICA|      10|2024-02-25|\n",
      "|         Allergy| continuous_sneezing|           shivering|              chills|  watering_from_eyes|NO_APLICA|NO_APLICA|NO_APLICA|NO_APLICA|NO_APLICA| NO_APLICA| NO_APLICA| NO_APLICA| NO_APLICA| NO_APLICA| NO_APLICA| NO_APLICA| NO_APLICA| 9999999|1999-12-31|\n",
      "|         Allergy|           shivering|              chills|  watering_from_eyes|           NO_APLICA|NO_APLICA|NO_APLICA|NO_APLICA|NO_APLICA|NO_APLICA| NO_APLICA| NO_APLICA| NO_APLICA| NO_APLICA| NO_APLICA| NO_APLICA| NO_APLICA| NO_APLICA| 9999999|1999-12-31|\n",
      "|         Allergy| continuous_sneezing|              chills|  watering_from_eyes|           NO_APLICA|NO_APLICA|NO_APLICA|NO_APLICA|NO_APLICA|NO_APLICA| NO_APLICA| NO_APLICA| NO_APLICA| NO_APLICA| NO_APLICA| NO_APLICA| NO_APLICA| NO_APLICA| 9999999|1999-12-31|\n",
      "|         Allergy| continuous_sneezing|           shivering|  watering_from_eyes|           NO_APLICA|NO_APLICA|NO_APLICA|NO_APLICA|NO_APLICA|NO_APLICA| NO_APLICA| NO_APLICA| NO_APLICA| NO_APLICA| NO_APLICA| NO_APLICA| NO_APLICA| NO_APLICA| 9999999|1999-12-31|\n",
      "|         Allergy| continuous_sneezing|           shivering|              chills|           NO_APLICA|NO_APLICA|NO_APLICA|NO_APLICA|NO_APLICA|NO_APLICA| NO_APLICA| NO_APLICA| NO_APLICA| NO_APLICA| NO_APLICA| NO_APLICA| NO_APLICA| NO_APLICA| 9999999|1999-12-31|\n",
      "|         Allergy|           shivering|              chills|  watering_from_eyes|           NO_APLICA|NO_APLICA|NO_APLICA|NO_APLICA|NO_APLICA|NO_APLICA| NO_APLICA| NO_APLICA| NO_APLICA| NO_APLICA| NO_APLICA| NO_APLICA| NO_APLICA| NO_APLICA| 9999999|1999-12-31|\n",
      "|         Allergy| continuous_sneezing|              chills|  watering_from_eyes|           NO_APLICA|NO_APLICA|NO_APLICA|NO_APLICA|NO_APLICA|NO_APLICA| NO_APLICA| NO_APLICA| NO_APLICA| NO_APLICA| NO_APLICA| NO_APLICA| NO_APLICA| NO_APLICA| 9999999|1999-12-31|\n",
      "|         Allergy| continuous_sneezing|           shivering|  watering_from_eyes|           NO_APLICA|NO_APLICA|NO_APLICA|NO_APLICA|NO_APLICA|NO_APLICA| NO_APLICA| NO_APLICA| NO_APLICA| NO_APLICA| NO_APLICA| NO_APLICA| NO_APLICA| NO_APLICA| 9999999|1999-12-31|\n",
      "|         Allergy| continuous_sneezing|           shivering|              chills|           NO_APLICA|NO_APLICA|NO_APLICA|NO_APLICA|NO_APLICA|NO_APLICA| NO_APLICA| NO_APLICA| NO_APLICA| NO_APLICA| NO_APLICA| NO_APLICA| NO_APLICA| NO_APLICA| 9999999|1999-12-31|\n",
      "|         Allergy| continuous_sneezing|           shivering|              chills|  watering_from_eyes|NO_APLICA|NO_APLICA|NO_APLICA|NO_APLICA|NO_APLICA| NO_APLICA| NO_APLICA| NO_APLICA| NO_APLICA| NO_APLICA| NO_APLICA| NO_APLICA| NO_APLICA| 9999999|1999-12-31|\n",
      "+----------------+--------------------+--------------------+--------------------+--------------------+---------+---------+---------+---------+---------+----------+----------+----------+----------+----------+----------+----------+----------+--------+----------+\n",
      "only showing top 20 rows\n",
      "\n"
     ]
    }
   ],
   "source": [
    "df_1 = logica_nulos(df_1,lista_nulos_df)\n",
    "df_1.select('number_2','date_proc').show()\n",
    "df_1.show()"
   ]
  },
  {
   "cell_type": "markdown",
   "id": "477115ab-a9fc-4aef-8c21-46a6245f8942",
   "metadata": {},
   "source": [
    "## Método de replace"
   ]
  },
  {
   "cell_type": "code",
   "execution_count": 133,
   "id": "10c84663-dbf7-4d2f-89be-ea2153b2244f",
   "metadata": {},
   "outputs": [],
   "source": [
    "def reemplazar_caracter(df,campo,caracter):\n",
    "    df = df.withColumn(campo,regexp_replace(col(campo), caracter, '¬'))\n",
    "    return df"
   ]
  },
  {
   "cell_type": "code",
   "execution_count": 135,
   "id": "6129146e-0db5-48fc-8d9c-b337d7797fed",
   "metadata": {},
   "outputs": [
    {
     "name": "stdout",
     "output_type": "stream",
     "text": [
      "+--------------------+\n",
      "|           Symptom_4|\n",
      "+--------------------+\n",
      "| dischromic ¬patches|\n",
      "|           NO¬APLICA|\n",
      "|           NO¬APLICA|\n",
      "|           NO¬APLICA|\n",
      "|           NO¬APLICA|\n",
      "|           NO¬APLICA|\n",
      "|           NO¬APLICA|\n",
      "|           NO¬APLICA|\n",
      "|           NO¬APLICA|\n",
      "| dischromic ¬patches|\n",
      "|  watering¬from¬eyes|\n",
      "|           NO¬APLICA|\n",
      "|           NO¬APLICA|\n",
      "|           NO¬APLICA|\n",
      "|           NO¬APLICA|\n",
      "|           NO¬APLICA|\n",
      "|           NO¬APLICA|\n",
      "|           NO¬APLICA|\n",
      "|           NO¬APLICA|\n",
      "|  watering¬from¬eyes|\n",
      "+--------------------+\n",
      "only showing top 20 rows\n",
      "\n"
     ]
    }
   ],
   "source": [
    "df_2 = reemplazar_caracter(df_1,'Symptom_4','_')\n",
    "df_2.select('Symptom_4').show()"
   ]
  }
 ],
 "metadata": {
  "kernelspec": {
   "display_name": "Python 3 (ipykernel)",
   "language": "python",
   "name": "python3"
  },
  "language_info": {
   "codemirror_mode": {
    "name": "ipython",
    "version": 3
   },
   "file_extension": ".py",
   "mimetype": "text/x-python",
   "name": "python",
   "nbconvert_exporter": "python",
   "pygments_lexer": "ipython3",
   "version": "3.12.1"
  }
 },
 "nbformat": 4,
 "nbformat_minor": 5
}
